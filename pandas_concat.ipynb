{
 "metadata": {
  "language_info": {
   "name": "python",
   "version": "3.10.11",
   "mimetype": "text/x-python",
   "codemirror_mode": {
    "name": "ipython",
    "version": 3
   },
   "pygments_lexer": "ipython3",
   "nbconvert_exporter": "python",
   "file_extension": ".py"
  },
  "kernelspec": {
   "name": "python3",
   "display_name": "Python 3 (ipykernel)",
   "language": "python"
  }
 },
 "nbformat_minor": 5,
 "nbformat": 4,
 "cells": [
  {
   "cell_type": "code",
   "source": [
    "import pandas as pd\n",
    "\n",
    "log_1 = pd.read_csv('log_1.csv', sep=';')\n",
    "log_2 = pd.read_csv('log_2.csv', sep=';')\n",
    "\n",
    "log_1"
   ],
   "metadata": {
    "trusted": true,
    "tags": [],
    "pycharm": {
     "name": "#%%\n"
    }
   },
   "execution_count": 1,
   "outputs": [
    {
     "data": {
      "text/plain": "        ID  SOURCE                 DATE\n0   720251  yandex  17.10.2019 11:17:17\n1   720250  google  17.10.2019 11:09:32\n2   720255  yandex  17.10.2019 12:04:34\n3   720257  google  17.10.2019 12:17:11\n4   720258  yandex  17.10.2019 12:40:07\n5   720281  yandex  17.10.2019 14:10:31\n6   720290  yandex  17.10.2019 14:37:11\n7   720297  yandex  17.10.2019 15:21:57\n8   720301  yandex  17.10.2019 16:20:13\n9   720303  yandex  17.10.2019 16:26:25\n10  720253  google  17.10.2019 11:53:01\n11  720256  yandex  17.10.2019 12:12:44\n12  720262  yandex  17.10.2019 12:53:55",
      "text/html": "<div>\n<style scoped>\n    .dataframe tbody tr th:only-of-type {\n        vertical-align: middle;\n    }\n\n    .dataframe tbody tr th {\n        vertical-align: top;\n    }\n\n    .dataframe thead th {\n        text-align: right;\n    }\n</style>\n<table border=\"1\" class=\"dataframe\">\n  <thead>\n    <tr style=\"text-align: right;\">\n      <th></th>\n      <th>ID</th>\n      <th>SOURCE</th>\n      <th>DATE</th>\n    </tr>\n  </thead>\n  <tbody>\n    <tr>\n      <th>0</th>\n      <td>720251</td>\n      <td>yandex</td>\n      <td>17.10.2019 11:17:17</td>\n    </tr>\n    <tr>\n      <th>1</th>\n      <td>720250</td>\n      <td>google</td>\n      <td>17.10.2019 11:09:32</td>\n    </tr>\n    <tr>\n      <th>2</th>\n      <td>720255</td>\n      <td>yandex</td>\n      <td>17.10.2019 12:04:34</td>\n    </tr>\n    <tr>\n      <th>3</th>\n      <td>720257</td>\n      <td>google</td>\n      <td>17.10.2019 12:17:11</td>\n    </tr>\n    <tr>\n      <th>4</th>\n      <td>720258</td>\n      <td>yandex</td>\n      <td>17.10.2019 12:40:07</td>\n    </tr>\n    <tr>\n      <th>5</th>\n      <td>720281</td>\n      <td>yandex</td>\n      <td>17.10.2019 14:10:31</td>\n    </tr>\n    <tr>\n      <th>6</th>\n      <td>720290</td>\n      <td>yandex</td>\n      <td>17.10.2019 14:37:11</td>\n    </tr>\n    <tr>\n      <th>7</th>\n      <td>720297</td>\n      <td>yandex</td>\n      <td>17.10.2019 15:21:57</td>\n    </tr>\n    <tr>\n      <th>8</th>\n      <td>720301</td>\n      <td>yandex</td>\n      <td>17.10.2019 16:20:13</td>\n    </tr>\n    <tr>\n      <th>9</th>\n      <td>720303</td>\n      <td>yandex</td>\n      <td>17.10.2019 16:26:25</td>\n    </tr>\n    <tr>\n      <th>10</th>\n      <td>720253</td>\n      <td>google</td>\n      <td>17.10.2019 11:53:01</td>\n    </tr>\n    <tr>\n      <th>11</th>\n      <td>720256</td>\n      <td>yandex</td>\n      <td>17.10.2019 12:12:44</td>\n    </tr>\n    <tr>\n      <th>12</th>\n      <td>720262</td>\n      <td>yandex</td>\n      <td>17.10.2019 12:53:55</td>\n    </tr>\n  </tbody>\n</table>\n</div>"
     },
     "execution_count": 1,
     "metadata": {},
     "output_type": "execute_result"
    }
   ],
   "id": "1bb666f4-9ad0-46a3-ab1d-4625528dc89e"
  },
  {
   "cell_type": "code",
   "source": [
    "log_2"
   ],
   "metadata": {
    "trusted": true,
    "tags": [],
    "pycharm": {
     "name": "#%%\n"
    }
   },
   "execution_count": 2,
   "outputs": [
    {
     "data": {
      "text/plain": "       ID  SOURCE                 DATE\n0  720474  yandex  18.10.2019 12:28:59\n1  720477  yandex  18.10.2019 12:53:05\n2  720479      vk  18.10.2019 13:04:41\n3  720483  google  18.10.2019 13:24:01",
      "text/html": "<div>\n<style scoped>\n    .dataframe tbody tr th:only-of-type {\n        vertical-align: middle;\n    }\n\n    .dataframe tbody tr th {\n        vertical-align: top;\n    }\n\n    .dataframe thead th {\n        text-align: right;\n    }\n</style>\n<table border=\"1\" class=\"dataframe\">\n  <thead>\n    <tr style=\"text-align: right;\">\n      <th></th>\n      <th>ID</th>\n      <th>SOURCE</th>\n      <th>DATE</th>\n    </tr>\n  </thead>\n  <tbody>\n    <tr>\n      <th>0</th>\n      <td>720474</td>\n      <td>yandex</td>\n      <td>18.10.2019 12:28:59</td>\n    </tr>\n    <tr>\n      <th>1</th>\n      <td>720477</td>\n      <td>yandex</td>\n      <td>18.10.2019 12:53:05</td>\n    </tr>\n    <tr>\n      <th>2</th>\n      <td>720479</td>\n      <td>vk</td>\n      <td>18.10.2019 13:04:41</td>\n    </tr>\n    <tr>\n      <th>3</th>\n      <td>720483</td>\n      <td>google</td>\n      <td>18.10.2019 13:24:01</td>\n    </tr>\n  </tbody>\n</table>\n</div>"
     },
     "execution_count": 2,
     "metadata": {},
     "output_type": "execute_result"
    }
   ],
   "id": "4f1f88aa-b3f4-4f3f-80ec-b8f98136ef9c"
  },
  {
   "cell_type": "code",
   "source": [
    "pd.concat((log_1, log_2))"
   ],
   "metadata": {
    "trusted": true,
    "tags": [],
    "pycharm": {
     "name": "#%%\n"
    }
   },
   "execution_count": 3,
   "outputs": [
    {
     "data": {
      "text/plain": "        ID  SOURCE                 DATE\n0   720251  yandex  17.10.2019 11:17:17\n1   720250  google  17.10.2019 11:09:32\n2   720255  yandex  17.10.2019 12:04:34\n3   720257  google  17.10.2019 12:17:11\n4   720258  yandex  17.10.2019 12:40:07\n5   720281  yandex  17.10.2019 14:10:31\n6   720290  yandex  17.10.2019 14:37:11\n7   720297  yandex  17.10.2019 15:21:57\n8   720301  yandex  17.10.2019 16:20:13\n9   720303  yandex  17.10.2019 16:26:25\n10  720253  google  17.10.2019 11:53:01\n11  720256  yandex  17.10.2019 12:12:44\n12  720262  yandex  17.10.2019 12:53:55\n0   720474  yandex  18.10.2019 12:28:59\n1   720477  yandex  18.10.2019 12:53:05\n2   720479      vk  18.10.2019 13:04:41\n3   720483  google  18.10.2019 13:24:01",
      "text/html": "<div>\n<style scoped>\n    .dataframe tbody tr th:only-of-type {\n        vertical-align: middle;\n    }\n\n    .dataframe tbody tr th {\n        vertical-align: top;\n    }\n\n    .dataframe thead th {\n        text-align: right;\n    }\n</style>\n<table border=\"1\" class=\"dataframe\">\n  <thead>\n    <tr style=\"text-align: right;\">\n      <th></th>\n      <th>ID</th>\n      <th>SOURCE</th>\n      <th>DATE</th>\n    </tr>\n  </thead>\n  <tbody>\n    <tr>\n      <th>0</th>\n      <td>720251</td>\n      <td>yandex</td>\n      <td>17.10.2019 11:17:17</td>\n    </tr>\n    <tr>\n      <th>1</th>\n      <td>720250</td>\n      <td>google</td>\n      <td>17.10.2019 11:09:32</td>\n    </tr>\n    <tr>\n      <th>2</th>\n      <td>720255</td>\n      <td>yandex</td>\n      <td>17.10.2019 12:04:34</td>\n    </tr>\n    <tr>\n      <th>3</th>\n      <td>720257</td>\n      <td>google</td>\n      <td>17.10.2019 12:17:11</td>\n    </tr>\n    <tr>\n      <th>4</th>\n      <td>720258</td>\n      <td>yandex</td>\n      <td>17.10.2019 12:40:07</td>\n    </tr>\n    <tr>\n      <th>5</th>\n      <td>720281</td>\n      <td>yandex</td>\n      <td>17.10.2019 14:10:31</td>\n    </tr>\n    <tr>\n      <th>6</th>\n      <td>720290</td>\n      <td>yandex</td>\n      <td>17.10.2019 14:37:11</td>\n    </tr>\n    <tr>\n      <th>7</th>\n      <td>720297</td>\n      <td>yandex</td>\n      <td>17.10.2019 15:21:57</td>\n    </tr>\n    <tr>\n      <th>8</th>\n      <td>720301</td>\n      <td>yandex</td>\n      <td>17.10.2019 16:20:13</td>\n    </tr>\n    <tr>\n      <th>9</th>\n      <td>720303</td>\n      <td>yandex</td>\n      <td>17.10.2019 16:26:25</td>\n    </tr>\n    <tr>\n      <th>10</th>\n      <td>720253</td>\n      <td>google</td>\n      <td>17.10.2019 11:53:01</td>\n    </tr>\n    <tr>\n      <th>11</th>\n      <td>720256</td>\n      <td>yandex</td>\n      <td>17.10.2019 12:12:44</td>\n    </tr>\n    <tr>\n      <th>12</th>\n      <td>720262</td>\n      <td>yandex</td>\n      <td>17.10.2019 12:53:55</td>\n    </tr>\n    <tr>\n      <th>0</th>\n      <td>720474</td>\n      <td>yandex</td>\n      <td>18.10.2019 12:28:59</td>\n    </tr>\n    <tr>\n      <th>1</th>\n      <td>720477</td>\n      <td>yandex</td>\n      <td>18.10.2019 12:53:05</td>\n    </tr>\n    <tr>\n      <th>2</th>\n      <td>720479</td>\n      <td>vk</td>\n      <td>18.10.2019 13:04:41</td>\n    </tr>\n    <tr>\n      <th>3</th>\n      <td>720483</td>\n      <td>google</td>\n      <td>18.10.2019 13:24:01</td>\n    </tr>\n  </tbody>\n</table>\n</div>"
     },
     "execution_count": 3,
     "metadata": {},
     "output_type": "execute_result"
    }
   ],
   "id": "4788d414-0868-4d0c-aff6-a7eafacf1485"
  },
  {
   "cell_type": "code",
   "source": [
    "pd.concat((log_1, log_2), ignore_index=True)"
   ],
   "metadata": {
    "trusted": true,
    "tags": [],
    "pycharm": {
     "name": "#%%\n"
    }
   },
   "execution_count": 4,
   "outputs": [
    {
     "data": {
      "text/plain": "        ID  SOURCE                 DATE\n0   720251  yandex  17.10.2019 11:17:17\n1   720250  google  17.10.2019 11:09:32\n2   720255  yandex  17.10.2019 12:04:34\n3   720257  google  17.10.2019 12:17:11\n4   720258  yandex  17.10.2019 12:40:07\n5   720281  yandex  17.10.2019 14:10:31\n6   720290  yandex  17.10.2019 14:37:11\n7   720297  yandex  17.10.2019 15:21:57\n8   720301  yandex  17.10.2019 16:20:13\n9   720303  yandex  17.10.2019 16:26:25\n10  720253  google  17.10.2019 11:53:01\n11  720256  yandex  17.10.2019 12:12:44\n12  720262  yandex  17.10.2019 12:53:55\n13  720474  yandex  18.10.2019 12:28:59\n14  720477  yandex  18.10.2019 12:53:05\n15  720479      vk  18.10.2019 13:04:41\n16  720483  google  18.10.2019 13:24:01",
      "text/html": "<div>\n<style scoped>\n    .dataframe tbody tr th:only-of-type {\n        vertical-align: middle;\n    }\n\n    .dataframe tbody tr th {\n        vertical-align: top;\n    }\n\n    .dataframe thead th {\n        text-align: right;\n    }\n</style>\n<table border=\"1\" class=\"dataframe\">\n  <thead>\n    <tr style=\"text-align: right;\">\n      <th></th>\n      <th>ID</th>\n      <th>SOURCE</th>\n      <th>DATE</th>\n    </tr>\n  </thead>\n  <tbody>\n    <tr>\n      <th>0</th>\n      <td>720251</td>\n      <td>yandex</td>\n      <td>17.10.2019 11:17:17</td>\n    </tr>\n    <tr>\n      <th>1</th>\n      <td>720250</td>\n      <td>google</td>\n      <td>17.10.2019 11:09:32</td>\n    </tr>\n    <tr>\n      <th>2</th>\n      <td>720255</td>\n      <td>yandex</td>\n      <td>17.10.2019 12:04:34</td>\n    </tr>\n    <tr>\n      <th>3</th>\n      <td>720257</td>\n      <td>google</td>\n      <td>17.10.2019 12:17:11</td>\n    </tr>\n    <tr>\n      <th>4</th>\n      <td>720258</td>\n      <td>yandex</td>\n      <td>17.10.2019 12:40:07</td>\n    </tr>\n    <tr>\n      <th>5</th>\n      <td>720281</td>\n      <td>yandex</td>\n      <td>17.10.2019 14:10:31</td>\n    </tr>\n    <tr>\n      <th>6</th>\n      <td>720290</td>\n      <td>yandex</td>\n      <td>17.10.2019 14:37:11</td>\n    </tr>\n    <tr>\n      <th>7</th>\n      <td>720297</td>\n      <td>yandex</td>\n      <td>17.10.2019 15:21:57</td>\n    </tr>\n    <tr>\n      <th>8</th>\n      <td>720301</td>\n      <td>yandex</td>\n      <td>17.10.2019 16:20:13</td>\n    </tr>\n    <tr>\n      <th>9</th>\n      <td>720303</td>\n      <td>yandex</td>\n      <td>17.10.2019 16:26:25</td>\n    </tr>\n    <tr>\n      <th>10</th>\n      <td>720253</td>\n      <td>google</td>\n      <td>17.10.2019 11:53:01</td>\n    </tr>\n    <tr>\n      <th>11</th>\n      <td>720256</td>\n      <td>yandex</td>\n      <td>17.10.2019 12:12:44</td>\n    </tr>\n    <tr>\n      <th>12</th>\n      <td>720262</td>\n      <td>yandex</td>\n      <td>17.10.2019 12:53:55</td>\n    </tr>\n    <tr>\n      <th>13</th>\n      <td>720474</td>\n      <td>yandex</td>\n      <td>18.10.2019 12:28:59</td>\n    </tr>\n    <tr>\n      <th>14</th>\n      <td>720477</td>\n      <td>yandex</td>\n      <td>18.10.2019 12:53:05</td>\n    </tr>\n    <tr>\n      <th>15</th>\n      <td>720479</td>\n      <td>vk</td>\n      <td>18.10.2019 13:04:41</td>\n    </tr>\n    <tr>\n      <th>16</th>\n      <td>720483</td>\n      <td>google</td>\n      <td>18.10.2019 13:24:01</td>\n    </tr>\n  </tbody>\n</table>\n</div>"
     },
     "execution_count": 4,
     "metadata": {},
     "output_type": "execute_result"
    }
   ],
   "id": "2a35fc6c-7742-46fe-b9b3-46bbb7292218"
  },
  {
   "cell_type": "code",
   "source": [],
   "metadata": {
    "pycharm": {
     "name": "#%%\n"
    }
   },
   "execution_count": 4,
   "outputs": [],
   "id": "0830b170-0303-4834-9b68-e35d2e5a49eb"
  }
 ]
}