{
 "metadata": {
  "language_info": {
   "name": "python",
   "version": "3.10.11",
   "mimetype": "text/x-python",
   "codemirror_mode": {
    "name": "ipython",
    "version": 3
   },
   "pygments_lexer": "ipython3",
   "nbconvert_exporter": "python",
   "file_extension": ".py"
  },
  "kernelspec": {
   "name": "python3",
   "display_name": "Python 3 (ipykernel)",
   "language": "python"
  }
 },
 "nbformat_minor": 5,
 "nbformat": 4,
 "cells": [
  {
   "cell_type": "code",
   "source": [
    "import pandas as pd\n",
    "\n",
    "log_1 = pd.read_csv('log_1.csv', sep=';')\n",
    "log_2 = pd.read_csv('log_2.csv', sep=';')\n",
    "\n",
    "log_1.head(5)"
   ],
   "metadata": {
    "trusted": true,
    "tags": [],
    "pycharm": {
     "name": "#%%\n"
    }
   },
   "execution_count": 5,
   "outputs": [
    {
     "data": {
      "text/plain": "       ID  SOURCE                 DATE\n0  720251  yandex  17.10.2019 11:17:17\n1  720250  google  17.10.2019 11:09:32\n2  720255  yandex  17.10.2019 12:04:34\n3  720257  google  17.10.2019 12:17:11\n4  720258  yandex  17.10.2019 12:40:07",
      "text/html": "<div>\n<style scoped>\n    .dataframe tbody tr th:only-of-type {\n        vertical-align: middle;\n    }\n\n    .dataframe tbody tr th {\n        vertical-align: top;\n    }\n\n    .dataframe thead th {\n        text-align: right;\n    }\n</style>\n<table border=\"1\" class=\"dataframe\">\n  <thead>\n    <tr style=\"text-align: right;\">\n      <th></th>\n      <th>ID</th>\n      <th>SOURCE</th>\n      <th>DATE</th>\n    </tr>\n  </thead>\n  <tbody>\n    <tr>\n      <th>0</th>\n      <td>720251</td>\n      <td>yandex</td>\n      <td>17.10.2019 11:17:17</td>\n    </tr>\n    <tr>\n      <th>1</th>\n      <td>720250</td>\n      <td>google</td>\n      <td>17.10.2019 11:09:32</td>\n    </tr>\n    <tr>\n      <th>2</th>\n      <td>720255</td>\n      <td>yandex</td>\n      <td>17.10.2019 12:04:34</td>\n    </tr>\n    <tr>\n      <th>3</th>\n      <td>720257</td>\n      <td>google</td>\n      <td>17.10.2019 12:17:11</td>\n    </tr>\n    <tr>\n      <th>4</th>\n      <td>720258</td>\n      <td>yandex</td>\n      <td>17.10.2019 12:40:07</td>\n    </tr>\n  </tbody>\n</table>\n</div>"
     },
     "execution_count": 5,
     "metadata": {},
     "output_type": "execute_result"
    }
   ],
   "id": "1bb666f4-9ad0-46a3-ab1d-4625528dc89e"
  },
  {
   "cell_type": "code",
   "source": [
    "log_2.head(5)"
   ],
   "metadata": {
    "trusted": true,
    "tags": [],
    "pycharm": {
     "name": "#%%\n"
    }
   },
   "execution_count": 6,
   "outputs": [
    {
     "data": {
      "text/plain": "       ID  SOURCE                 DATE\n0  720474  yandex  18.10.2019 12:28:59\n1  720477  yandex  18.10.2019 12:53:05\n2  720479      vk  18.10.2019 13:04:41\n3  720483  google  18.10.2019 13:24:01",
      "text/html": "<div>\n<style scoped>\n    .dataframe tbody tr th:only-of-type {\n        vertical-align: middle;\n    }\n\n    .dataframe tbody tr th {\n        vertical-align: top;\n    }\n\n    .dataframe thead th {\n        text-align: right;\n    }\n</style>\n<table border=\"1\" class=\"dataframe\">\n  <thead>\n    <tr style=\"text-align: right;\">\n      <th></th>\n      <th>ID</th>\n      <th>SOURCE</th>\n      <th>DATE</th>\n    </tr>\n  </thead>\n  <tbody>\n    <tr>\n      <th>0</th>\n      <td>720474</td>\n      <td>yandex</td>\n      <td>18.10.2019 12:28:59</td>\n    </tr>\n    <tr>\n      <th>1</th>\n      <td>720477</td>\n      <td>yandex</td>\n      <td>18.10.2019 12:53:05</td>\n    </tr>\n    <tr>\n      <th>2</th>\n      <td>720479</td>\n      <td>vk</td>\n      <td>18.10.2019 13:04:41</td>\n    </tr>\n    <tr>\n      <th>3</th>\n      <td>720483</td>\n      <td>google</td>\n      <td>18.10.2019 13:24:01</td>\n    </tr>\n  </tbody>\n</table>\n</div>"
     },
     "execution_count": 6,
     "metadata": {},
     "output_type": "execute_result"
    }
   ],
   "id": "4f1f88aa-b3f4-4f3f-80ec-b8f98136ef9c"
  },
  {
   "cell_type": "code",
   "source": [
    "pd.concat((log_1, log_2)).head(5)"
   ],
   "metadata": {
    "trusted": true,
    "tags": [],
    "pycharm": {
     "name": "#%%\n"
    }
   },
   "execution_count": 7,
   "outputs": [
    {
     "data": {
      "text/plain": "       ID  SOURCE                 DATE\n0  720251  yandex  17.10.2019 11:17:17\n1  720250  google  17.10.2019 11:09:32\n2  720255  yandex  17.10.2019 12:04:34\n3  720257  google  17.10.2019 12:17:11\n4  720258  yandex  17.10.2019 12:40:07",
      "text/html": "<div>\n<style scoped>\n    .dataframe tbody tr th:only-of-type {\n        vertical-align: middle;\n    }\n\n    .dataframe tbody tr th {\n        vertical-align: top;\n    }\n\n    .dataframe thead th {\n        text-align: right;\n    }\n</style>\n<table border=\"1\" class=\"dataframe\">\n  <thead>\n    <tr style=\"text-align: right;\">\n      <th></th>\n      <th>ID</th>\n      <th>SOURCE</th>\n      <th>DATE</th>\n    </tr>\n  </thead>\n  <tbody>\n    <tr>\n      <th>0</th>\n      <td>720251</td>\n      <td>yandex</td>\n      <td>17.10.2019 11:17:17</td>\n    </tr>\n    <tr>\n      <th>1</th>\n      <td>720250</td>\n      <td>google</td>\n      <td>17.10.2019 11:09:32</td>\n    </tr>\n    <tr>\n      <th>2</th>\n      <td>720255</td>\n      <td>yandex</td>\n      <td>17.10.2019 12:04:34</td>\n    </tr>\n    <tr>\n      <th>3</th>\n      <td>720257</td>\n      <td>google</td>\n      <td>17.10.2019 12:17:11</td>\n    </tr>\n    <tr>\n      <th>4</th>\n      <td>720258</td>\n      <td>yandex</td>\n      <td>17.10.2019 12:40:07</td>\n    </tr>\n  </tbody>\n</table>\n</div>"
     },
     "execution_count": 7,
     "metadata": {},
     "output_type": "execute_result"
    }
   ],
   "id": "4788d414-0868-4d0c-aff6-a7eafacf1485"
  },
  {
   "cell_type": "code",
   "source": [
    "pd.concat((log_1, log_2), ignore_index=True).head(5)"
   ],
   "metadata": {
    "trusted": true,
    "tags": [],
    "pycharm": {
     "name": "#%%\n"
    }
   },
   "execution_count": 8,
   "outputs": [
    {
     "data": {
      "text/plain": "       ID  SOURCE                 DATE\n0  720251  yandex  17.10.2019 11:17:17\n1  720250  google  17.10.2019 11:09:32\n2  720255  yandex  17.10.2019 12:04:34\n3  720257  google  17.10.2019 12:17:11\n4  720258  yandex  17.10.2019 12:40:07",
      "text/html": "<div>\n<style scoped>\n    .dataframe tbody tr th:only-of-type {\n        vertical-align: middle;\n    }\n\n    .dataframe tbody tr th {\n        vertical-align: top;\n    }\n\n    .dataframe thead th {\n        text-align: right;\n    }\n</style>\n<table border=\"1\" class=\"dataframe\">\n  <thead>\n    <tr style=\"text-align: right;\">\n      <th></th>\n      <th>ID</th>\n      <th>SOURCE</th>\n      <th>DATE</th>\n    </tr>\n  </thead>\n  <tbody>\n    <tr>\n      <th>0</th>\n      <td>720251</td>\n      <td>yandex</td>\n      <td>17.10.2019 11:17:17</td>\n    </tr>\n    <tr>\n      <th>1</th>\n      <td>720250</td>\n      <td>google</td>\n      <td>17.10.2019 11:09:32</td>\n    </tr>\n    <tr>\n      <th>2</th>\n      <td>720255</td>\n      <td>yandex</td>\n      <td>17.10.2019 12:04:34</td>\n    </tr>\n    <tr>\n      <th>3</th>\n      <td>720257</td>\n      <td>google</td>\n      <td>17.10.2019 12:17:11</td>\n    </tr>\n    <tr>\n      <th>4</th>\n      <td>720258</td>\n      <td>yandex</td>\n      <td>17.10.2019 12:40:07</td>\n    </tr>\n  </tbody>\n</table>\n</div>"
     },
     "execution_count": 8,
     "metadata": {},
     "output_type": "execute_result"
    }
   ],
   "id": "2a35fc6c-7742-46fe-b9b3-46bbb7292218"
  },
  {
   "cell_type": "code",
   "source": [],
   "metadata": {
    "pycharm": {
     "name": "#%%\n"
    }
   },
   "execution_count": 8,
   "outputs": [],
   "id": "0830b170-0303-4834-9b68-e35d2e5a49eb"
  }
 ]
}