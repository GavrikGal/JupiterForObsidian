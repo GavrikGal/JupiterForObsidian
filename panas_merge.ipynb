{
 "cells": [
  {
   "cell_type": "code",
   "execution_count": 1,
   "metadata": {
    "collapsed": true,
    "pycharm": {
     "name": "#%%\n"
    }
   },
   "outputs": [],
   "source": [
    "import pandas as pd\n",
    "\n",
    "log_2 = pd.read_csv('log_2.csv', sep=';')\n",
    "log_2_success_unsorted = pd.read_csv('log_2_success_unsorted.csv', sep=';')"
   ]
  },
  {
   "cell_type": "code",
   "execution_count": 2,
   "outputs": [
    {
     "data": {
      "text/plain": "       ID  SOURCE                 DATE  SUCCESS\n0  720474  yandex  18.10.2019 12:28:59     True\n1  720477  yandex  18.10.2019 12:53:05    False\n2  720479      vk  18.10.2019 13:04:41    False\n3  720483  google  18.10.2019 13:24:01     True",
      "text/html": "<div>\n<style scoped>\n    .dataframe tbody tr th:only-of-type {\n        vertical-align: middle;\n    }\n\n    .dataframe tbody tr th {\n        vertical-align: top;\n    }\n\n    .dataframe thead th {\n        text-align: right;\n    }\n</style>\n<table border=\"1\" class=\"dataframe\">\n  <thead>\n    <tr style=\"text-align: right;\">\n      <th></th>\n      <th>ID</th>\n      <th>SOURCE</th>\n      <th>DATE</th>\n      <th>SUCCESS</th>\n    </tr>\n  </thead>\n  <tbody>\n    <tr>\n      <th>0</th>\n      <td>720474</td>\n      <td>yandex</td>\n      <td>18.10.2019 12:28:59</td>\n      <td>True</td>\n    </tr>\n    <tr>\n      <th>1</th>\n      <td>720477</td>\n      <td>yandex</td>\n      <td>18.10.2019 12:53:05</td>\n      <td>False</td>\n    </tr>\n    <tr>\n      <th>2</th>\n      <td>720479</td>\n      <td>vk</td>\n      <td>18.10.2019 13:04:41</td>\n      <td>False</td>\n    </tr>\n    <tr>\n      <th>3</th>\n      <td>720483</td>\n      <td>google</td>\n      <td>18.10.2019 13:24:01</td>\n      <td>True</td>\n    </tr>\n  </tbody>\n</table>\n</div>"
     },
     "execution_count": 2,
     "metadata": {},
     "output_type": "execute_result"
    }
   ],
   "source": [
    "pd.merge(log_2, log_2_success_unsorted, on=('ID'))"
   ],
   "metadata": {
    "collapsed": false,
    "pycharm": {
     "name": "#%%\n"
    }
   }
  },
  {
   "cell_type": "code",
   "execution_count": null,
   "outputs": [],
   "source": [],
   "metadata": {
    "collapsed": false,
    "pycharm": {
     "name": "#%%\n"
    }
   }
  }
 ],
 "metadata": {
  "kernelspec": {
   "display_name": "Python 3",
   "language": "python",
   "name": "python3"
  },
  "language_info": {
   "codemirror_mode": {
    "name": "ipython",
    "version": 2
   },
   "file_extension": ".py",
   "mimetype": "text/x-python",
   "name": "python",
   "nbconvert_exporter": "python",
   "pygments_lexer": "ipython2",
   "version": "2.7.6"
  }
 },
 "nbformat": 4,
 "nbformat_minor": 0
}