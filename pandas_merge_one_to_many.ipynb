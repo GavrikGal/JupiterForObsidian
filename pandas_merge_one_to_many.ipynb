{
 "cells": [
  {
   "cell_type": "code",
   "execution_count": 4,
   "metadata": {
    "collapsed": true,
    "pycharm": {
     "name": "#%%\n"
    }
   },
   "outputs": [
    {
     "data": {
      "text/plain": "         Дата создания  Order ID  ID Покупателя                    Статус  \\\n0  09.11.2019 21:55:51         9             10  Принят, ожидается оплата   \n1  09.11.2019 15:05:57         8              9  Принят, ожидается оплата   \n2  09.11.2019 15:05:57         8              9  Принят, ожидается оплата   \n3  09.11.2019 12:50:07         7              8  Принят, ожидается оплата   \n4  09.11.2019 12:00:00         6              1  Принят, ожидается оплата   \n\n  Оплачен Отменен Отгружен  ID товара  Количество  \n0     Нет     Нет      Нет        103           5  \n1     Нет     Нет      Нет         86         100  \n2     Нет     Нет      Нет        104          10  \n3     Нет     Нет      Нет        104           7  \n4     Нет     Нет      Нет        104           5  ",
      "text/html": "<div>\n<style scoped>\n    .dataframe tbody tr th:only-of-type {\n        vertical-align: middle;\n    }\n\n    .dataframe tbody tr th {\n        vertical-align: top;\n    }\n\n    .dataframe thead th {\n        text-align: right;\n    }\n</style>\n<table border=\"1\" class=\"dataframe\">\n  <thead>\n    <tr style=\"text-align: right;\">\n      <th></th>\n      <th>Дата создания</th>\n      <th>Order ID</th>\n      <th>ID Покупателя</th>\n      <th>Статус</th>\n      <th>Оплачен</th>\n      <th>Отменен</th>\n      <th>Отгружен</th>\n      <th>ID товара</th>\n      <th>Количество</th>\n    </tr>\n  </thead>\n  <tbody>\n    <tr>\n      <th>0</th>\n      <td>09.11.2019 21:55:51</td>\n      <td>9</td>\n      <td>10</td>\n      <td>Принят, ожидается оплата</td>\n      <td>Нет</td>\n      <td>Нет</td>\n      <td>Нет</td>\n      <td>103</td>\n      <td>5</td>\n    </tr>\n    <tr>\n      <th>1</th>\n      <td>09.11.2019 15:05:57</td>\n      <td>8</td>\n      <td>9</td>\n      <td>Принят, ожидается оплата</td>\n      <td>Нет</td>\n      <td>Нет</td>\n      <td>Нет</td>\n      <td>86</td>\n      <td>100</td>\n    </tr>\n    <tr>\n      <th>2</th>\n      <td>09.11.2019 15:05:57</td>\n      <td>8</td>\n      <td>9</td>\n      <td>Принят, ожидается оплата</td>\n      <td>Нет</td>\n      <td>Нет</td>\n      <td>Нет</td>\n      <td>104</td>\n      <td>10</td>\n    </tr>\n    <tr>\n      <th>3</th>\n      <td>09.11.2019 12:50:07</td>\n      <td>7</td>\n      <td>8</td>\n      <td>Принят, ожидается оплата</td>\n      <td>Нет</td>\n      <td>Нет</td>\n      <td>Нет</td>\n      <td>104</td>\n      <td>7</td>\n    </tr>\n    <tr>\n      <th>4</th>\n      <td>09.11.2019 12:00:00</td>\n      <td>6</td>\n      <td>1</td>\n      <td>Принят, ожидается оплата</td>\n      <td>Нет</td>\n      <td>Нет</td>\n      <td>Нет</td>\n      <td>104</td>\n      <td>5</td>\n    </tr>\n  </tbody>\n</table>\n</div>"
     },
     "execution_count": 4,
     "metadata": {},
     "output_type": "execute_result"
    }
   ],
   "source": [
    "import pandas as pd\n",
    "\n",
    "orders = pd.read_csv('orders.csv', sep=';')\n",
    "products = pd.read_csv('Products.csv', sep=';')\n",
    "\n",
    "orders.head(5)"
   ]
  },
  {
   "cell_type": "code",
   "execution_count": 5,
   "outputs": [
    {
     "data": {
      "text/plain": "   Product_ID                      Name  Price CURRENCY\n0          47      Шатны Полосатый рейс   2999      RUR\n1          51  Платье Аленький цветочек   4999      RUR\n2          53    Штаны Цветочная Поляна   4999      RUR\n3          71       Платье Ночная Жизнь   7999      RUR\n4          74  Платье Ночная Жизнь XXXL   8999      RUR",
      "text/html": "<div>\n<style scoped>\n    .dataframe tbody tr th:only-of-type {\n        vertical-align: middle;\n    }\n\n    .dataframe tbody tr th {\n        vertical-align: top;\n    }\n\n    .dataframe thead th {\n        text-align: right;\n    }\n</style>\n<table border=\"1\" class=\"dataframe\">\n  <thead>\n    <tr style=\"text-align: right;\">\n      <th></th>\n      <th>Product_ID</th>\n      <th>Name</th>\n      <th>Price</th>\n      <th>CURRENCY</th>\n    </tr>\n  </thead>\n  <tbody>\n    <tr>\n      <th>0</th>\n      <td>47</td>\n      <td>Шатны Полосатый рейс</td>\n      <td>2999</td>\n      <td>RUR</td>\n    </tr>\n    <tr>\n      <th>1</th>\n      <td>51</td>\n      <td>Платье Аленький цветочек</td>\n      <td>4999</td>\n      <td>RUR</td>\n    </tr>\n    <tr>\n      <th>2</th>\n      <td>53</td>\n      <td>Штаны Цветочная Поляна</td>\n      <td>4999</td>\n      <td>RUR</td>\n    </tr>\n    <tr>\n      <th>3</th>\n      <td>71</td>\n      <td>Платье Ночная Жизнь</td>\n      <td>7999</td>\n      <td>RUR</td>\n    </tr>\n    <tr>\n      <th>4</th>\n      <td>74</td>\n      <td>Платье Ночная Жизнь XXXL</td>\n      <td>8999</td>\n      <td>RUR</td>\n    </tr>\n  </tbody>\n</table>\n</div>"
     },
     "execution_count": 5,
     "metadata": {},
     "output_type": "execute_result"
    }
   ],
   "source": [
    "products.head(5)"
   ],
   "metadata": {
    "collapsed": false,
    "pycharm": {
     "name": "#%%\n"
    }
   }
  },
  {
   "cell_type": "code",
   "execution_count": 6,
   "outputs": [
    {
     "data": {
      "text/plain": "         Дата создания  Order ID  ID Покупателя                    Статус  \\\n0  09.11.2019 21:55:51         9             10  Принят, ожидается оплата   \n1  09.11.2019 15:05:57         8              9  Принят, ожидается оплата   \n2  09.11.2019 15:05:57         8              9  Принят, ожидается оплата   \n3  09.11.2019 12:50:07         7              8  Принят, ожидается оплата   \n4  09.11.2019 12:00:00         6              1  Принят, ожидается оплата   \n\n  Оплачен Отменен Отгружен  ID товара  Количество  Product_ID  \\\n0     Нет     Нет      Нет        103           5       103.0   \n1     Нет     Нет      Нет         86         100        86.0   \n2     Нет     Нет      Нет        104          10       104.0   \n3     Нет     Нет      Нет        104           7       104.0   \n4     Нет     Нет      Нет        104           5       104.0   \n\n                    Name  Price CURRENCY  \n0  Носки Подарочные, муж  199.0      RUR  \n1     Носки Простые, муж   45.0      RUR  \n2  Носки Подарочные, жен  249.0      RUR  \n3  Носки Подарочные, жен  249.0      RUR  \n4  Носки Подарочные, жен  249.0      RUR  ",
      "text/html": "<div>\n<style scoped>\n    .dataframe tbody tr th:only-of-type {\n        vertical-align: middle;\n    }\n\n    .dataframe tbody tr th {\n        vertical-align: top;\n    }\n\n    .dataframe thead th {\n        text-align: right;\n    }\n</style>\n<table border=\"1\" class=\"dataframe\">\n  <thead>\n    <tr style=\"text-align: right;\">\n      <th></th>\n      <th>Дата создания</th>\n      <th>Order ID</th>\n      <th>ID Покупателя</th>\n      <th>Статус</th>\n      <th>Оплачен</th>\n      <th>Отменен</th>\n      <th>Отгружен</th>\n      <th>ID товара</th>\n      <th>Количество</th>\n      <th>Product_ID</th>\n      <th>Name</th>\n      <th>Price</th>\n      <th>CURRENCY</th>\n    </tr>\n  </thead>\n  <tbody>\n    <tr>\n      <th>0</th>\n      <td>09.11.2019 21:55:51</td>\n      <td>9</td>\n      <td>10</td>\n      <td>Принят, ожидается оплата</td>\n      <td>Нет</td>\n      <td>Нет</td>\n      <td>Нет</td>\n      <td>103</td>\n      <td>5</td>\n      <td>103.0</td>\n      <td>Носки Подарочные, муж</td>\n      <td>199.0</td>\n      <td>RUR</td>\n    </tr>\n    <tr>\n      <th>1</th>\n      <td>09.11.2019 15:05:57</td>\n      <td>8</td>\n      <td>9</td>\n      <td>Принят, ожидается оплата</td>\n      <td>Нет</td>\n      <td>Нет</td>\n      <td>Нет</td>\n      <td>86</td>\n      <td>100</td>\n      <td>86.0</td>\n      <td>Носки Простые, муж</td>\n      <td>45.0</td>\n      <td>RUR</td>\n    </tr>\n    <tr>\n      <th>2</th>\n      <td>09.11.2019 15:05:57</td>\n      <td>8</td>\n      <td>9</td>\n      <td>Принят, ожидается оплата</td>\n      <td>Нет</td>\n      <td>Нет</td>\n      <td>Нет</td>\n      <td>104</td>\n      <td>10</td>\n      <td>104.0</td>\n      <td>Носки Подарочные, жен</td>\n      <td>249.0</td>\n      <td>RUR</td>\n    </tr>\n    <tr>\n      <th>3</th>\n      <td>09.11.2019 12:50:07</td>\n      <td>7</td>\n      <td>8</td>\n      <td>Принят, ожидается оплата</td>\n      <td>Нет</td>\n      <td>Нет</td>\n      <td>Нет</td>\n      <td>104</td>\n      <td>7</td>\n      <td>104.0</td>\n      <td>Носки Подарочные, жен</td>\n      <td>249.0</td>\n      <td>RUR</td>\n    </tr>\n    <tr>\n      <th>4</th>\n      <td>09.11.2019 12:00:00</td>\n      <td>6</td>\n      <td>1</td>\n      <td>Принят, ожидается оплата</td>\n      <td>Нет</td>\n      <td>Нет</td>\n      <td>Нет</td>\n      <td>104</td>\n      <td>5</td>\n      <td>104.0</td>\n      <td>Носки Подарочные, жен</td>\n      <td>249.0</td>\n      <td>RUR</td>\n    </tr>\n  </tbody>\n</table>\n</div>"
     },
     "execution_count": 6,
     "metadata": {},
     "output_type": "execute_result"
    }
   ],
   "source": [
    "pd.merge(orders, products, how ='left', left_on=('ID товара'), right_on=('Product_ID')).head(5)"
   ],
   "metadata": {
    "collapsed": false,
    "pycharm": {
     "name": "#%%\n"
    }
   }
  },
  {
   "cell_type": "code",
   "execution_count": null,
   "outputs": [],
   "source": [],
   "metadata": {
    "collapsed": false,
    "pycharm": {
     "name": "#%%\n"
    }
   }
  }
 ],
 "metadata": {
  "kernelspec": {
   "display_name": "Python 3",
   "language": "python",
   "name": "python3"
  },
  "language_info": {
   "codemirror_mode": {
    "name": "ipython",
    "version": 2
   },
   "file_extension": ".py",
   "mimetype": "text/x-python",
   "name": "python",
   "nbconvert_exporter": "python",
   "pygments_lexer": "ipython2",
   "version": "2.7.6"
  }
 },
 "nbformat": 4,
 "nbformat_minor": 0
}